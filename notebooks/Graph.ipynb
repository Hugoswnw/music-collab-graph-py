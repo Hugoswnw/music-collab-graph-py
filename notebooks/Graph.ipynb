{
 "cells": [
  {
   "cell_type": "code",
   "execution_count": 1,
   "metadata": {},
   "outputs": [],
   "source": [
    "import requests as req\n",
    "import json\n",
    "import pandas as pd\n",
    "import numpy as np\n",
    "import networkx as nx\n",
    "import re\n",
    "import itertools\n",
    "import time"
   ]
  },
  {
   "cell_type": "code",
   "execution_count": 3,
   "metadata": {},
   "outputs": [],
   "source": [
    "ENTRY = \"6qFt3TjvxMt77YGsktWG8Z\"\n",
    "CLIENT = \"81e657278a2742739d2020bc48963bf5\"\n",
    "SECRET = \"713df9a23eef4999aa75c2515b937b5f\"\n",
    "GENRE = '(rap|hip hop)'\n",
    "LANG = '(franc|french|belg|franç)'"
   ]
  },
  {
   "cell_type": "code",
   "execution_count": 4,
   "metadata": {},
   "outputs": [],
   "source": [
    "def queryToken():\n",
    "    data = {\n",
    "        'grant_type': 'client_credentials',\n",
    "        'client_id': CLIENT,\n",
    "        'client_secret': SECRET\n",
    "    }\n",
    "    res = req.post(\"https://accounts.spotify.com/api/token\", data=data)\n",
    "    t = json.loads(res.text)[\"access_token\"]\n",
    "    return t\n",
    "\n",
    "def getNewArtists(graph):\n",
    "    return [n for n in graph if \"name\" not in graph.nodes[n]]\n",
    "\n",
    "def getUncheckedArtists(graph):\n",
    "    return [n for n in [n for n in graph if \"name\" in graph.nodes[n]] if not graph.nodes[n][\"checked\"] and graph.nodes[n][\"genre\"]]\n",
    "\n",
    "def queryArtists(graph, token, artists, limit=50):\n",
    "    artists = [artists[i:i+limit] for i in range(0, len(artists), limit)]\n",
    "    for _a in artists:\n",
    "        headers = {'Authorization': 'Bearer '+token}\n",
    "        url = \"https://api.spotify.com/v1/artists?ids={}&limit={}\".format(','.join(_a), limit)\n",
    "        res = json.loads(req.get(url, headers=headers).text)\n",
    "        for a in res[\"artists\"]:\n",
    "            G.add_node(a[\"id\"], name=a[\"name\"], genre=checkGenres(a[\"genres\"]), checked=False, popularity=a[\"popularity\"], id=a[\"id\"])\n",
    "        \n",
    "def querySongs(graph, token, artist):\n",
    "    headers = {'Authorization': 'Bearer '+token}\n",
    "    url = \"https://api.spotify.com/v1/artists/{}/albums\".format(artist)\n",
    "    res = json.loads(req.get(url, headers=headers).text)\n",
    "    url = \"https://api.spotify.com/v1/albums?ids={}\".format(','.join([a[\"id\"] for a in res[\"items\"]]))\n",
    "    res = json.loads(req.get(url, headers=headers).text)\n",
    "    for album in res[\"albums\"]:\n",
    "        for track in album[\"tracks\"][\"items\"]:\n",
    "            for feat in itertools.combinations([artist[\"id\"] for artist in track[\"artists\"]], 2):\n",
    "                if not graph.has_edge(*feat):\n",
    "                    graph.add_edge(*feat, names=\"\", ids=\"\", count=0, datemax=0, datemin=10000)\n",
    "                graph.edges[feat[0], feat[1]][\"count\"] += 1\n",
    "                graph.edges[feat[0], feat[1]][\"ids\"] += \", \"+track[\"id\"]\n",
    "                graph.edges[feat[0], feat[1]][\"names\"] += \", \"+track[\"name\"]\n",
    "                graph.edges[feat[0], feat[1]][\"datemin\"] = min(int(album[\"release_date\"][0:4]), graph.edges[feat[0], feat[1]][\"datemin\"])\n",
    "                graph.edges[feat[0], feat[1]][\"datemax\"] = max(int(album[\"release_date\"][0:4]), graph.edges[feat[0], feat[1]][\"datemax\"])\n",
    "                \n",
    "def checkGenres(genres):\n",
    "    for g in genres:\n",
    "        if re.search(GENRE, g) is not None:\n",
    "            if re.search(LANG, g) is not None:\n",
    "                return True\n",
    "    return False\n",
    "\n",
    "def step(graph, token, amount=1, sleep=0.01):\n",
    "    for i in range(amount):\n",
    "        print(i)\n",
    "        for _artist in getUncheckedArtists(graph):\n",
    "            querySongs(graph, token, _artist)\n",
    "        time.sleep(0.01)\n",
    "        queryArtists(graph, token, getNewArtists(G))"
   ]
  },
  {
   "cell_type": "code",
   "execution_count": 5,
   "metadata": {},
   "outputs": [],
   "source": [
    "token = queryToken()"
   ]
  },
  {
   "cell_type": "code",
   "execution_count": 6,
   "metadata": {},
   "outputs": [],
   "source": [
    "G = nx.Graph()\n",
    "queryArtists(G, token, [ENTRY])"
   ]
  },
  {
   "cell_type": "code",
   "execution_count": 7,
   "metadata": {},
   "outputs": [
    {
     "name": "stdout",
     "output_type": "stream",
     "text": [
      "0\n",
      "1\n",
      "2\n",
      "3\n",
      "4\n",
      "5\n"
     ]
    }
   ],
   "source": [
    "step(G, token, 6)"
   ]
  },
  {
   "cell_type": "code",
   "execution_count": 8,
   "metadata": {},
   "outputs": [
    {
     "name": "stdout",
     "output_type": "stream",
     "text": [
      "0\n"
     ]
    }
   ],
   "source": [
    "step(G, token, 1)"
   ]
  },
  {
   "cell_type": "code",
   "execution_count": 11,
   "metadata": {},
   "outputs": [
    {
     "name": "stdout",
     "output_type": "stream",
     "text": [
      "0\n"
     ]
    }
   ],
   "source": [
    "step(G, token, 1)"
   ]
  },
  {
   "cell_type": "code",
   "execution_count": 9,
   "metadata": {},
   "outputs": [],
   "source": [
    "nx.write_graphml(G, \"graph.graphml\")"
   ]
  },
  {
   "cell_type": "code",
   "execution_count": 10,
   "metadata": {},
   "outputs": [
    {
     "data": {
      "text/plain": [
       "(array([10230,   254,    68,    22,    15,    10,     3,     0,     1,\n",
       "            1]),\n",
       " array([  1.,  29.,  57.,  85., 113., 141., 169., 197., 225., 253., 281.]))"
      ]
     },
     "execution_count": 10,
     "metadata": {},
     "output_type": "execute_result"
    }
   ],
   "source": [
    "np.histogram(np.array([j for i,j in G.degree]))"
   ]
  },
  {
   "cell_type": "code",
   "execution_count": 2,
   "metadata": {},
   "outputs": [],
   "source": [
    "G = nx.read_graphml(\"graph.graphml\")"
   ]
  },
  {
   "cell_type": "code",
   "execution_count": 26,
   "metadata": {},
   "outputs": [],
   "source": [
    "norm = {uv: k/733 for uv, k in nx.get_edge_attributes(G, \"count\").items()}\n",
    "nx.set_edge_attributes(G, norm, \"norm_count\")"
   ]
  },
  {
   "cell_type": "code",
   "execution_count": 27,
   "metadata": {},
   "outputs": [],
   "source": [
    "nx.write_graphml(G, \"graph.graphml\")"
   ]
  }
 ],
 "metadata": {
  "kernelspec": {
   "display_name": "Python 3",
   "language": "python",
   "name": "python3"
  },
  "language_info": {
   "codemirror_mode": {
    "name": "ipython",
    "version": 3
   },
   "file_extension": ".py",
   "mimetype": "text/x-python",
   "name": "python",
   "nbconvert_exporter": "python",
   "pygments_lexer": "ipython3",
   "version": "3.6.7"
  }
 },
 "nbformat": 4,
 "nbformat_minor": 2
}
